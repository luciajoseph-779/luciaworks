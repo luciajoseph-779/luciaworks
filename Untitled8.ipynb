{
 "cells": [
  {
   "cell_type": "code",
   "execution_count": 2,
   "id": "fdba0bd3",
   "metadata": {},
   "outputs": [],
   "source": [
    "import pandas as pd\n",
    "import matplotlib.pyplot as plt"
   ]
  },
  {
   "cell_type": "code",
   "execution_count": 3,
   "id": "1335306c",
   "metadata": {},
   "outputs": [],
   "source": [
    "df=pd.read_excel(\"sample_data.xlsx\")"
   ]
  },
  {
   "cell_type": "code",
   "execution_count": 4,
   "id": "df158878",
   "metadata": {},
   "outputs": [
    {
     "data": {
      "text/html": [
       "<div>\n",
       "<style scoped>\n",
       "    .dataframe tbody tr th:only-of-type {\n",
       "        vertical-align: middle;\n",
       "    }\n",
       "\n",
       "    .dataframe tbody tr th {\n",
       "        vertical-align: top;\n",
       "    }\n",
       "\n",
       "    .dataframe thead th {\n",
       "        text-align: right;\n",
       "    }\n",
       "</style>\n",
       "<table border=\"1\" class=\"dataframe\">\n",
       "  <thead>\n",
       "    <tr style=\"text-align: right;\">\n",
       "      <th></th>\n",
       "      <th>TransactionID</th>\n",
       "      <th>CustomerID</th>\n",
       "      <th>TransactionDate</th>\n",
       "      <th>Amount</th>\n",
       "      <th>PaymentMethod</th>\n",
       "      <th>CustomerFeedback</th>\n",
       "      <th>ProductCategory</th>\n",
       "      <th>StoreLocation</th>\n",
       "      <th>PromotionApplied</th>\n",
       "      <th>CustomerAge</th>\n",
       "    </tr>\n",
       "  </thead>\n",
       "  <tbody>\n",
       "    <tr>\n",
       "      <th>0</th>\n",
       "      <td>T001</td>\n",
       "      <td>C001</td>\n",
       "      <td>2023-01-01</td>\n",
       "      <td>397.42</td>\n",
       "      <td>Mobile Payment</td>\n",
       "      <td>Bad</td>\n",
       "      <td>Clothing</td>\n",
       "      <td>Rural</td>\n",
       "      <td>False</td>\n",
       "      <td>34</td>\n",
       "    </tr>\n",
       "    <tr>\n",
       "      <th>1</th>\n",
       "      <td>T002</td>\n",
       "      <td>C002</td>\n",
       "      <td>2023-01-02</td>\n",
       "      <td>440.76</td>\n",
       "      <td>Cash</td>\n",
       "      <td>Neutral</td>\n",
       "      <td>Clothing</td>\n",
       "      <td>Rural</td>\n",
       "      <td>False</td>\n",
       "      <td>51</td>\n",
       "    </tr>\n",
       "    <tr>\n",
       "      <th>2</th>\n",
       "      <td>T003</td>\n",
       "      <td>C003</td>\n",
       "      <td>2023-01-03</td>\n",
       "      <td>375.00</td>\n",
       "      <td>Cash</td>\n",
       "      <td>Neutral</td>\n",
       "      <td>Clothing</td>\n",
       "      <td>Rural</td>\n",
       "      <td>False</td>\n",
       "      <td>41</td>\n",
       "    </tr>\n",
       "    <tr>\n",
       "      <th>3</th>\n",
       "      <td>T004</td>\n",
       "      <td>C004</td>\n",
       "      <td>2023-01-04</td>\n",
       "      <td>127.04</td>\n",
       "      <td>Cash</td>\n",
       "      <td>Neutral</td>\n",
       "      <td>Clothing</td>\n",
       "      <td>Rural</td>\n",
       "      <td>True</td>\n",
       "      <td>52</td>\n",
       "    </tr>\n",
       "    <tr>\n",
       "      <th>4</th>\n",
       "      <td>T005</td>\n",
       "      <td>C005</td>\n",
       "      <td>2023-01-05</td>\n",
       "      <td>351.02</td>\n",
       "      <td>Credit Card</td>\n",
       "      <td>Good</td>\n",
       "      <td>Electronics</td>\n",
       "      <td>Rural</td>\n",
       "      <td>False</td>\n",
       "      <td>63</td>\n",
       "    </tr>\n",
       "    <tr>\n",
       "      <th>...</th>\n",
       "      <td>...</td>\n",
       "      <td>...</td>\n",
       "      <td>...</td>\n",
       "      <td>...</td>\n",
       "      <td>...</td>\n",
       "      <td>...</td>\n",
       "      <td>...</td>\n",
       "      <td>...</td>\n",
       "      <td>...</td>\n",
       "      <td>...</td>\n",
       "    </tr>\n",
       "    <tr>\n",
       "      <th>95</th>\n",
       "      <td>T096</td>\n",
       "      <td>C096</td>\n",
       "      <td>2023-04-06</td>\n",
       "      <td>465.28</td>\n",
       "      <td>Cash</td>\n",
       "      <td>Bad</td>\n",
       "      <td>Groceries</td>\n",
       "      <td>Suburban</td>\n",
       "      <td>True</td>\n",
       "      <td>29</td>\n",
       "    </tr>\n",
       "    <tr>\n",
       "      <th>96</th>\n",
       "      <td>T097</td>\n",
       "      <td>C097</td>\n",
       "      <td>2023-04-07</td>\n",
       "      <td>336.00</td>\n",
       "      <td>Mobile Payment</td>\n",
       "      <td>Good</td>\n",
       "      <td>Electronics</td>\n",
       "      <td>Rural</td>\n",
       "      <td>True</td>\n",
       "      <td>41</td>\n",
       "    </tr>\n",
       "    <tr>\n",
       "      <th>97</th>\n",
       "      <td>T098</td>\n",
       "      <td>C098</td>\n",
       "      <td>2023-04-08</td>\n",
       "      <td>220.83</td>\n",
       "      <td>Mobile Payment</td>\n",
       "      <td>Good</td>\n",
       "      <td>Electronics</td>\n",
       "      <td>Urban</td>\n",
       "      <td>True</td>\n",
       "      <td>32</td>\n",
       "    </tr>\n",
       "    <tr>\n",
       "      <th>98</th>\n",
       "      <td>T099</td>\n",
       "      <td>C099</td>\n",
       "      <td>2023-04-09</td>\n",
       "      <td>365.68</td>\n",
       "      <td>Mobile Payment</td>\n",
       "      <td>Good</td>\n",
       "      <td>Groceries</td>\n",
       "      <td>Urban</td>\n",
       "      <td>True</td>\n",
       "      <td>37</td>\n",
       "    </tr>\n",
       "    <tr>\n",
       "      <th>99</th>\n",
       "      <td>T100</td>\n",
       "      <td>C100</td>\n",
       "      <td>2023-04-10</td>\n",
       "      <td>150.43</td>\n",
       "      <td>Cash</td>\n",
       "      <td>Good</td>\n",
       "      <td>Clothing</td>\n",
       "      <td>Rural</td>\n",
       "      <td>True</td>\n",
       "      <td>30</td>\n",
       "    </tr>\n",
       "  </tbody>\n",
       "</table>\n",
       "<p>100 rows × 10 columns</p>\n",
       "</div>"
      ],
      "text/plain": [
       "   TransactionID CustomerID TransactionDate  Amount   PaymentMethod  \\\n",
       "0           T001       C001      2023-01-01  397.42  Mobile Payment   \n",
       "1           T002       C002      2023-01-02  440.76            Cash   \n",
       "2           T003       C003      2023-01-03  375.00            Cash   \n",
       "3           T004       C004      2023-01-04  127.04            Cash   \n",
       "4           T005       C005      2023-01-05  351.02     Credit Card   \n",
       "..           ...        ...             ...     ...             ...   \n",
       "95          T096       C096      2023-04-06  465.28            Cash   \n",
       "96          T097       C097      2023-04-07  336.00  Mobile Payment   \n",
       "97          T098       C098      2023-04-08  220.83  Mobile Payment   \n",
       "98          T099       C099      2023-04-09  365.68  Mobile Payment   \n",
       "99          T100       C100      2023-04-10  150.43            Cash   \n",
       "\n",
       "   CustomerFeedback ProductCategory StoreLocation  PromotionApplied  \\\n",
       "0               Bad        Clothing         Rural             False   \n",
       "1           Neutral        Clothing         Rural             False   \n",
       "2           Neutral        Clothing         Rural             False   \n",
       "3           Neutral        Clothing         Rural              True   \n",
       "4              Good     Electronics         Rural             False   \n",
       "..              ...             ...           ...               ...   \n",
       "95              Bad       Groceries      Suburban              True   \n",
       "96             Good     Electronics         Rural              True   \n",
       "97             Good     Electronics         Urban              True   \n",
       "98             Good       Groceries         Urban              True   \n",
       "99             Good        Clothing         Rural              True   \n",
       "\n",
       "    CustomerAge  \n",
       "0            34  \n",
       "1            51  \n",
       "2            41  \n",
       "3            52  \n",
       "4            63  \n",
       "..          ...  \n",
       "95           29  \n",
       "96           41  \n",
       "97           32  \n",
       "98           37  \n",
       "99           30  \n",
       "\n",
       "[100 rows x 10 columns]"
      ]
     },
     "execution_count": 4,
     "metadata": {},
     "output_type": "execute_result"
    }
   ],
   "source": [
    "df"
   ]
  },
  {
   "cell_type": "code",
   "execution_count": 5,
   "id": "ca9b9775",
   "metadata": {},
   "outputs": [
    {
     "name": "stdout",
     "output_type": "stream",
     "text": [
      "<class 'pandas.core.frame.DataFrame'>\n",
      "RangeIndex: 100 entries, 0 to 99\n",
      "Data columns (total 10 columns):\n",
      " #   Column            Non-Null Count  Dtype         \n",
      "---  ------            --------------  -----         \n",
      " 0   TransactionID     100 non-null    object        \n",
      " 1   CustomerID        100 non-null    object        \n",
      " 2   TransactionDate   100 non-null    datetime64[ns]\n",
      " 3   Amount            100 non-null    float64       \n",
      " 4   PaymentMethod     100 non-null    object        \n",
      " 5   CustomerFeedback  100 non-null    object        \n",
      " 6   ProductCategory   100 non-null    object        \n",
      " 7   StoreLocation     100 non-null    object        \n",
      " 8   PromotionApplied  100 non-null    bool          \n",
      " 9   CustomerAge       100 non-null    int64         \n",
      "dtypes: bool(1), datetime64[ns](1), float64(1), int64(1), object(6)\n",
      "memory usage: 7.3+ KB\n"
     ]
    }
   ],
   "source": [
    "df.info()"
   ]
  },
  {
   "cell_type": "code",
   "execution_count": 6,
   "id": "e589cfeb",
   "metadata": {},
   "outputs": [
    {
     "data": {
      "text/plain": [
       "TransactionID       0\n",
       "CustomerID          0\n",
       "TransactionDate     0\n",
       "Amount              0\n",
       "PaymentMethod       0\n",
       "CustomerFeedback    0\n",
       "ProductCategory     0\n",
       "StoreLocation       0\n",
       "PromotionApplied    0\n",
       "CustomerAge         0\n",
       "dtype: int64"
      ]
     },
     "execution_count": 6,
     "metadata": {},
     "output_type": "execute_result"
    }
   ],
   "source": [
    "df.isnull().sum()"
   ]
  },
  {
   "cell_type": "code",
   "execution_count": 7,
   "id": "1c781366",
   "metadata": {},
   "outputs": [
    {
     "data": {
      "image/png": "[encoded data removed]",
      "text/plain": [
       "<Figure size 1200x600 with 1 Axes>"
      ]
     },
     "metadata": {},
     "output_type": "display_data"
    }
   ],
   "source": [
    "#01\n",
    "plt.figure(figsize=(12, 6))\n",
    "plt.plot(df['TransactionDate'], df['Amount'], marker='o')\n",
    "plt.title('Trend in Transaction Amounts Over the Past 100 Days')\n",
    "plt.xlabel('Date')\n",
    "plt.ylabel('Total Transaction Amount')\n",
    "plt.grid(True)\n",
    "plt.show()\n"
   ]
  },
  {
   "cell_type": "code",
   "execution_count": 8,
   "id": "9e465c11",
   "metadata": {},
   "outputs": [],
   "source": [
    "trend=df.describe()"
   ]
  },
  {
   "cell_type": "code",
   "execution_count": 9,
   "id": "816ae9b7",
   "metadata": {},
   "outputs": [
    {
     "data": {
      "text/html": [
       "<div>\n",
       "<style scoped>\n",
       "    .dataframe tbody tr th:only-of-type {\n",
       "        vertical-align: middle;\n",
       "    }\n",
       "\n",
       "    .dataframe tbody tr th {\n",
       "        vertical-align: top;\n",
       "    }\n",
       "\n",
       "    .dataframe thead th {\n",
       "        text-align: right;\n",
       "    }\n",
       "</style>\n",
       "<table border=\"1\" class=\"dataframe\">\n",
       "  <thead>\n",
       "    <tr style=\"text-align: right;\">\n",
       "      <th></th>\n",
       "      <th>TransactionDate</th>\n",
       "      <th>Amount</th>\n",
       "      <th>CustomerAge</th>\n",
       "    </tr>\n",
       "  </thead>\n",
       "  <tbody>\n",
       "    <tr>\n",
       "      <th>count</th>\n",
       "      <td>100</td>\n",
       "      <td>100.000000</td>\n",
       "      <td>100.000000</td>\n",
       "    </tr>\n",
       "    <tr>\n",
       "      <th>mean</th>\n",
       "      <td>2023-02-19 12:00:00</td>\n",
       "      <td>258.120700</td>\n",
       "      <td>44.300000</td>\n",
       "    </tr>\n",
       "    <tr>\n",
       "      <th>min</th>\n",
       "      <td>2023-01-01 00:00:00</td>\n",
       "      <td>9.180000</td>\n",
       "      <td>18.000000</td>\n",
       "    </tr>\n",
       "    <tr>\n",
       "      <th>25%</th>\n",
       "      <td>2023-01-25 18:00:00</td>\n",
       "      <td>140.852500</td>\n",
       "      <td>31.000000</td>\n",
       "    </tr>\n",
       "    <tr>\n",
       "      <th>50%</th>\n",
       "      <td>2023-02-19 12:00:00</td>\n",
       "      <td>260.715000</td>\n",
       "      <td>41.500000</td>\n",
       "    </tr>\n",
       "    <tr>\n",
       "      <th>75%</th>\n",
       "      <td>2023-03-16 06:00:00</td>\n",
       "      <td>368.735000</td>\n",
       "      <td>57.250000</td>\n",
       "    </tr>\n",
       "    <tr>\n",
       "      <th>max</th>\n",
       "      <td>2023-04-10 00:00:00</td>\n",
       "      <td>493.490000</td>\n",
       "      <td>69.000000</td>\n",
       "    </tr>\n",
       "    <tr>\n",
       "      <th>std</th>\n",
       "      <td>NaN</td>\n",
       "      <td>141.244324</td>\n",
       "      <td>14.871503</td>\n",
       "    </tr>\n",
       "  </tbody>\n",
       "</table>\n",
       "</div>"
      ],
      "text/plain": [
       "           TransactionDate      Amount  CustomerAge\n",
       "count                  100  100.000000   100.000000\n",
       "mean   2023-02-19 12:00:00  258.120700    44.300000\n",
       "min    2023-01-01 00:00:00    9.180000    18.000000\n",
       "25%    2023-01-25 18:00:00  140.852500    31.000000\n",
       "50%    2023-02-19 12:00:00  260.715000    41.500000\n",
       "75%    2023-03-16 06:00:00  368.735000    57.250000\n",
       "max    2023-04-10 00:00:00  493.490000    69.000000\n",
       "std                    NaN  141.244324    14.871503"
      ]
     },
     "execution_count": 9,
     "metadata": {},
     "output_type": "execute_result"
    }
   ],
   "source": [
    "trend"
   ]
  },
  {
   "cell_type": "code",
   "execution_count": 10,
   "id": "2bccff2b",
   "metadata": {},
   "outputs": [],
   "source": [
    "#02\n",
    "ms=df['PaymentMethod'].mode()"
   ]
  },
  {
   "cell_type": "code",
   "execution_count": 11,
   "id": "71ad36e9",
   "metadata": {},
   "outputs": [
    {
     "data": {
      "text/plain": [
       "0    Credit Card\n",
       "Name: PaymentMethod, dtype: object"
      ]
     },
     "execution_count": 11,
     "metadata": {},
     "output_type": "execute_result"
    }
   ],
   "source": [
    "ms"
   ]
  },
  {
   "cell_type": "code",
   "execution_count": 12,
   "id": "3270bdf6",
   "metadata": {},
   "outputs": [],
   "source": [
    "p_method = df.groupby('PaymentMethod')['Amount'].mean().reset_index()\n"
   ]
  },
  {
   "cell_type": "code",
   "execution_count": 13,
   "id": "b97d7b44",
   "metadata": {},
   "outputs": [
    {
     "data": {
      "text/html": [
       "<div>\n",
       "<style scoped>\n",
       "    .dataframe tbody tr th:only-of-type {\n",
       "        vertical-align: middle;\n",
       "    }\n",
       "\n",
       "    .dataframe tbody tr th {\n",
       "        vertical-align: top;\n",
       "    }\n",
       "\n",
       "    .dataframe thead th {\n",
       "        text-align: right;\n",
       "    }\n",
       "</style>\n",
       "<table border=\"1\" class=\"dataframe\">\n",
       "  <thead>\n",
       "    <tr style=\"text-align: right;\">\n",
       "      <th></th>\n",
       "      <th>PaymentMethod</th>\n",
       "      <th>Amount</th>\n",
       "    </tr>\n",
       "  </thead>\n",
       "  <tbody>\n",
       "    <tr>\n",
       "      <th>0</th>\n",
       "      <td>Cash</td>\n",
       "      <td>221.866970</td>\n",
       "    </tr>\n",
       "    <tr>\n",
       "      <th>1</th>\n",
       "      <td>Credit Card</td>\n",
       "      <td>283.683824</td>\n",
       "    </tr>\n",
       "    <tr>\n",
       "      <th>2</th>\n",
       "      <td>Mobile Payment</td>\n",
       "      <td>268.036667</td>\n",
       "    </tr>\n",
       "  </tbody>\n",
       "</table>\n",
       "</div>"
      ],
      "text/plain": [
       "    PaymentMethod      Amount\n",
       "0            Cash  221.866970\n",
       "1     Credit Card  283.683824\n",
       "2  Mobile Payment  268.036667"
      ]
     },
     "execution_count": 13,
     "metadata": {},
     "output_type": "execute_result"
    }
   ],
   "source": [
    "p_method"
   ]
  },
  {
   "cell_type": "code",
   "execution_count": 14,
   "id": "2363fc0f",
   "metadata": {},
   "outputs": [],
   "source": [
    "#03\n",
    "average=df.groupby('ProductCategory')['Amount'].mean()"
   ]
  },
  {
   "cell_type": "code",
   "execution_count": 15,
   "id": "a63f03bb",
   "metadata": {},
   "outputs": [
    {
     "data": {
      "text/plain": [
       "ProductCategory\n",
       "Clothing       231.498529\n",
       "Electronics    282.965294\n",
       "Groceries      260.009375\n",
       "Name: Amount, dtype: float64"
      ]
     },
     "execution_count": 15,
     "metadata": {},
     "output_type": "execute_result"
    }
   ],
   "source": [
    "average"
   ]
  },
  {
   "cell_type": "code",
   "execution_count": 16,
   "id": "7d11de20",
   "metadata": {},
   "outputs": [],
   "source": [
    "revenue=df.groupby('ProductCategory')['Amount'].sum()"
   ]
  },
  {
   "cell_type": "code",
   "execution_count": 17,
   "id": "373cf9ad",
   "metadata": {},
   "outputs": [
    {
     "data": {
      "text/plain": [
       "ProductCategory\n",
       "Clothing       7870.95\n",
       "Electronics    9620.82\n",
       "Groceries      8320.30\n",
       "Name: Amount, dtype: float64"
      ]
     },
     "execution_count": 17,
     "metadata": {},
     "output_type": "execute_result"
    }
   ],
   "source": [
    "revenue"
   ]
  },
  {
   "cell_type": "code",
   "execution_count": 18,
   "id": "19439fed",
   "metadata": {},
   "outputs": [
    {
     "name": "stdout",
     "output_type": "stream",
     "text": [
      "9620.82\n"
     ]
    }
   ],
   "source": [
    "a=revenue.max()\n",
    "print(a)"
   ]
  },
  {
   "cell_type": "code",
   "execution_count": 19,
   "id": "a78604b0",
   "metadata": {},
   "outputs": [
    {
     "name": "stdout",
     "output_type": "stream",
     "text": [
      "Electronics\n"
     ]
    }
   ],
   "source": [
    "b=revenue.idxmax()\n",
    "print(b)"
   ]
  },
  {
   "cell_type": "code",
   "execution_count": 20,
   "id": "74e6b1ab",
   "metadata": {},
   "outputs": [
    {
     "name": "stdout",
     "output_type": "stream",
     "text": [
      "StoreLocation  CustomerFeedback\n",
      "Rural          Bad                 16\n",
      "               Good                 8\n",
      "               Neutral             16\n",
      "Suburban       Bad                 13\n",
      "               Good                 9\n",
      "               Neutral             14\n",
      "Urban          Bad                  6\n",
      "               Good                 8\n",
      "               Neutral             10\n",
      "dtype: int64\n"
     ]
    }
   ],
   "source": [
    "#04\n",
    "variation=df.groupby(['StoreLocation','CustomerFeedback']).size()\n",
    "print(variation)"
   ]
  },
  {
   "cell_type": "code",
   "execution_count": 21,
   "id": "7776fa8c",
   "metadata": {},
   "outputs": [
    {
     "name": "stdout",
     "output_type": "stream",
     "text": [
      "44.3\n"
     ]
    }
   ],
   "source": [
    "#05\n",
    "average1=df['CustomerAge'].mean()\n",
    "print(average1)"
   ]
  },
  {
   "cell_type": "code",
   "execution_count": 22,
   "id": "0ae6a6a8",
   "metadata": {},
   "outputs": [
    {
     "name": "stdout",
     "output_type": "stream",
     "text": [
      "             CustomerAge    Amount\n",
      "CustomerAge     1.000000 -0.041405\n",
      "Amount         -0.041405  1.000000\n"
     ]
    }
   ],
   "source": [
    "age_on_transaction=df[['CustomerAge','Amount']].corr()\n",
    "print(age_on_transaction)"
   ]
  },
  {
   "cell_type": "code",
   "execution_count": 23,
   "id": "b4bbb453",
   "metadata": {},
   "outputs": [
    {
     "name": "stdout",
     "output_type": "stream",
     "text": [
      "StoreLocation\n",
      "Rural       487.83\n",
      "Suburban    489.22\n",
      "Urban       493.49\n",
      "Name: Amount, dtype: float64\n"
     ]
    }
   ],
   "source": [
    "#6\n",
    "s_location=df.groupby('StoreLocation')['Amount'].max()\n",
    "print(s_location)"
   ]
  },
  {
   "cell_type": "code",
   "execution_count": 24,
   "id": "4e01a9fd",
   "metadata": {},
   "outputs": [],
   "source": [
    "s_location1=s_location.idxmax()"
   ]
  },
  {
   "cell_type": "code",
   "execution_count": 25,
   "id": "450429fb",
   "metadata": {},
   "outputs": [
    {
     "data": {
      "text/plain": [
       "'Urban'"
      ]
     },
     "execution_count": 25,
     "metadata": {},
     "output_type": "execute_result"
    }
   ],
   "source": [
    "s_location1"
   ]
  },
  {
   "cell_type": "code",
   "execution_count": 26,
   "id": "2354fa60",
   "metadata": {},
   "outputs": [
    {
     "name": "stdout",
     "output_type": "stream",
     "text": [
      "           TransactionDate      Amount  CustomerAge\n",
      "count                   24   24.000000    24.000000\n",
      "mean   2023-02-19 06:00:00  295.052917    42.916667\n",
      "min    2023-01-08 00:00:00   21.500000    18.000000\n",
      "25%    2023-01-25 06:00:00  194.665000    29.500000\n",
      "50%    2023-02-15 12:00:00  314.815000    40.500000\n",
      "75%    2023-03-19 12:00:00  405.610000    56.250000\n",
      "max    2023-04-09 00:00:00  493.490000    68.000000\n",
      "std                    NaN  146.848686    16.261228\n"
     ]
    }
   ],
   "source": [
    "cont_factor=df[df['StoreLocation']==s_location1].describe()\n",
    "print(cont_factor)"
   ]
  },
  {
   "cell_type": "code",
   "execution_count": 27,
   "id": "72bb1cea",
   "metadata": {},
   "outputs": [
    {
     "name": "stdout",
     "output_type": "stream",
     "text": [
      "0    True\n",
      "Name: PromotionApplied, dtype: bool\n"
     ]
    }
   ],
   "source": [
    "#7\n",
    "promotion=df['PromotionApplied'].mode()\n",
    "print(promotion)"
   ]
  },
  {
   "cell_type": "code",
   "execution_count": 28,
   "id": "5dbb5cde",
   "metadata": {},
   "outputs": [
    {
     "name": "stdout",
     "output_type": "stream",
     "text": [
      "PromotionApplied\n",
      "True     55\n",
      "False    45\n",
      "Name: count, dtype: int64\n"
     ]
    }
   ],
   "source": [
    "promotion_frequency = df['PromotionApplied'].value_counts()\n",
    "print(promotion_frequency)\n"
   ]
  },
  {
   "cell_type": "code",
   "execution_count": 29,
   "id": "62423160",
   "metadata": {},
   "outputs": [
    {
     "name": "stdout",
     "output_type": "stream",
     "text": [
      "266.7458181818182\n"
     ]
    }
   ],
   "source": [
    "prom1=df[df['PromotionApplied'] == True]['Amount'].mean()\n",
    "print(prom1)"
   ]
  },
  {
   "cell_type": "code",
   "execution_count": 30,
   "id": "135f3763",
   "metadata": {},
   "outputs": [
    {
     "name": "stdout",
     "output_type": "stream",
     "text": [
      "247.57888888888888\n"
     ]
    }
   ],
   "source": [
    "prom2=df[df['PromotionApplied'] == False]['Amount'].mean()\n",
    "print(prom2)"
   ]
  },
  {
   "cell_type": "code",
   "execution_count": 31,
   "id": "41cd0532",
   "metadata": {},
   "outputs": [
    {
     "name": "stdout",
     "output_type": "stream",
     "text": [
      "CustomerFeedback\n",
      "Bad        17\n",
      "Neutral    17\n",
      "Good       11\n",
      "Name: count, dtype: int64\n"
     ]
    }
   ],
   "source": [
    "prom3=df[df['PromotionApplied'] == False]['CustomerFeedback'].value_counts()\n",
    "print(prom3)"
   ]
  },
  {
   "cell_type": "code",
   "execution_count": 32,
   "id": "b17d12b3",
   "metadata": {},
   "outputs": [
    {
     "name": "stdout",
     "output_type": "stream",
     "text": [
      "CustomerFeedback\n",
      "Neutral    23\n",
      "Bad        18\n",
      "Good       14\n",
      "Name: count, dtype: int64\n"
     ]
    }
   ],
   "source": [
    "prom4=df[df['PromotionApplied'] == True]['CustomerFeedback'].value_counts()\n",
    "print(prom4)"
   ]
  },
  {
   "cell_type": "code",
   "execution_count": 35,
   "id": "3a21cebe",
   "metadata": {},
   "outputs": [],
   "source": [
    "#9\n",
    "df['DayOfWeek'] = df['TransactionDate'].dt.day_name()"
   ]
  },
  {
   "cell_type": "code",
   "execution_count": 36,
   "id": "9e224dfb",
   "metadata": {},
   "outputs": [
    {
     "name": "stdout",
     "output_type": "stream",
     "text": [
      "DayOfWeek\n",
      "Friday       226.732857\n",
      "Monday       266.150000\n",
      "Saturday     246.823571\n",
      "Sunday       317.758667\n",
      "Thursday     231.107143\n",
      "Tuesday      254.099286\n",
      "Wednesday    259.340000\n",
      "Name: Amount, dtype: float64\n"
     ]
    }
   ],
   "source": [
    "DayOfWeek1=df.groupby('DayOfWeek')['Amount'].mean()\n",
    "print(DayOfWeek1)"
   ]
  },
  {
   "cell_type": "markdown",
   "id": "8bc47424",
   "metadata": {},
   "source": []
  },
  {
   "cell_type": "code",
   "execution_count": 37,
   "id": "11c660a8",
   "metadata": {},
   "outputs": [
    {
     "data": {
      "image/png": "[encoded data removed]",
      "text/plain": [
       "<Figure size 1000x600 with 1 Axes>"
      ]
     },
     "metadata": {},
     "output_type": "display_data"
    }
   ],
   "source": [
    "#10\n",
    "plt.figure(figsize=(10, 6))\n",
    "plt.hist(df['Amount'], bins=30, edgecolor='black')\n",
    "plt.title('Distribution of Transaction Amounts')\n",
    "plt.xlabel('Transaction Amount')\n",
    "plt.ylabel('Frequency')\n",
    "plt.grid(True)\n",
    "plt.show()"
   ]
  },
  {
   "cell_type": "code",
   "execution_count": 38,
   "id": "34b77ce8",
   "metadata": {},
   "outputs": [
    {
     "name": "stdout",
     "output_type": "stream",
     "text": [
      "Number of outliers: 0\n"
     ]
    }
   ],
   "source": [
    "Q1 = df['Amount'].quantile(0.25)\n",
    "Q3 = df['Amount'].quantile(0.75)\n",
    "IQR = Q3 - Q1\n",
    "lower_bound = Q1 - 1.5 * IQR\n",
    "upper_bound = Q3 + 1.5 * IQR\n",
    "\n",
    "outliers = df[(df['Amount'] < lower_bound) | (df['Amount'] > upper_bound)]\n",
    "print(f\"Number of outliers: {outliers.shape[0]}\")"
   ]
  },
  {
   "cell_type": "code",
   "execution_count": 39,
   "id": "80d4c917",
   "metadata": {},
   "outputs": [
    {
     "name": "stdout",
     "output_type": "stream",
     "text": [
      "ProductCategory  CustomerFeedback\n",
      "Clothing         Bad                  6\n",
      "                 Good                10\n",
      "                 Neutral             18\n",
      "Electronics      Bad                 13\n",
      "                 Good                 7\n",
      "                 Neutral             14\n",
      "Groceries        Bad                 16\n",
      "                 Good                 8\n",
      "                 Neutral              8\n",
      "dtype: int64\n"
     ]
    }
   ],
   "source": [
    "#11\n",
    "influence=df.groupby(['ProductCategory', 'CustomerFeedback']).size()\n",
    "print(influence)    "
   ]
  },
  {
   "cell_type": "code",
   "execution_count": 40,
   "id": "db243aac",
   "metadata": {},
   "outputs": [
    {
     "name": "stdout",
     "output_type": "stream",
     "text": [
      "CustomerFeedback\n",
      "Bad        269.525714\n",
      "Good       231.631600\n",
      "Neutral    264.697000\n",
      "Name: Amount, dtype: float64\n"
     ]
    }
   ],
   "source": [
    "#12\n",
    "corrrelation=df.groupby('CustomerFeedback')['Amount'].mean()\n",
    "print(corrrelation)"
   ]
  },
  {
   "cell_type": "code",
   "execution_count": 41,
   "id": "b3dcaeda",
   "metadata": {},
   "outputs": [
    {
     "name": "stdout",
     "output_type": "stream",
     "text": [
      "CustomerID\n",
      "C085    493.49\n",
      "C087    491.52\n",
      "C029    491.46\n",
      "C081    489.22\n",
      "C032    487.83\n",
      "C035    486.69\n",
      "C038    469.40\n",
      "C059    468.38\n",
      "C096    465.28\n",
      "C040    464.74\n",
      "Name: Amount, dtype: float64\n"
     ]
    }
   ],
   "source": [
    "#13\n",
    "customer=df.groupby('CustomerID')['Amount'].sum().nlargest(10)\n",
    "print(customer)"
   ]
  },
  {
   "cell_type": "code",
   "execution_count": 48,
   "id": "ae9a0022",
   "metadata": {},
   "outputs": [
    {
     "name": "stdout",
     "output_type": "stream",
     "text": [
      "   CustomerID  CustomerAge StoreLocation ProductCategory   PaymentMethod\n",
      "0        C001         34.0         Rural        Clothing  Mobile Payment\n",
      "1        C002         51.0         Rural        Clothing            Cash\n",
      "2        C003         41.0         Rural        Clothing            Cash\n",
      "3        C004         52.0         Rural        Clothing            Cash\n",
      "4        C005         63.0         Rural     Electronics     Credit Card\n",
      "..        ...          ...           ...             ...             ...\n",
      "95       C096         29.0      Suburban       Groceries            Cash\n",
      "96       C097         41.0         Rural     Electronics  Mobile Payment\n",
      "97       C098         32.0         Urban     Electronics  Mobile Payment\n",
      "98       C099         37.0         Urban       Groceries  Mobile Payment\n",
      "99       C100         30.0         Rural        Clothing            Cash\n",
      "\n",
      "[100 rows x 5 columns]\n"
     ]
    }
   ],
   "source": [
    "top_customer = df[df['CustomerID'].isin(df['CustomerID'])]\n",
    "common_characteristics = top_customer.groupby('CustomerID').agg({\n",
    "    'CustomerAge': 'mean',\n",
    "    'StoreLocation': lambda x: x.mode()[0],\n",
    "    'ProductCategory': lambda x: x.mode()[0],\n",
    "    'PaymentMethod': lambda x: x.mode()[0]\n",
    "}).reset_index()\n",
    "print(common_characteristics)\n"
   ]
  },
  {
   "cell_type": "code",
   "execution_count": 49,
   "id": "3ab7399a",
   "metadata": {},
   "outputs": [
    {
     "name": "stdout",
     "output_type": "stream",
     "text": [
      "  StoreLocation  Amount_With_Promotion  Amount_Without_Promotion\n",
      "0         Rural             249.977000                  260.5745\n",
      "1      Suburban             244.748947                  227.6200\n",
      "2         Urban             313.828125                  257.5025\n"
     ]
    }
   ],
   "source": [
    "#14\n",
    "impact= df[df['PromotionApplied'] == True].groupby('StoreLocation')['Amount'].mean().reset_index()\n",
    "impact1= df[df['PromotionApplied'] == False].groupby('StoreLocation')['Amount'].mean().reset_index()\n",
    "\n",
    "effectiveness_of_promotions = impact.merge(impact1, on='StoreLocation', suffixes=('_With_Promotion', '_Without_Promotion'))\n",
    "print(effectiveness_of_promotions)\n"
   ]
  },
  {
   "cell_type": "code",
   "execution_count": 50,
   "id": "d4f44983",
   "metadata": {},
   "outputs": [
    {
     "name": "stdout",
     "output_type": "stream",
     "text": [
      "  CustomerFeedback  IsRepeatCustomer\n",
      "0              Bad               0.0\n",
      "1             Good               0.0\n",
      "2          Neutral               0.0\n"
     ]
    }
   ],
   "source": [
    "#15\n",
    "repeat_customers = df['CustomerID'].value_counts()\n",
    "repeat_customers = repeat_customers[repeat_customers > 1].index\n",
    "df['IsRepeatCustomer'] = df['CustomerID'].isin(repeat_customers)\n",
    "feedback_repeat_customers = df[df['IsRepeatCustomer'] == True]['CustomerFeedback'].value_counts()\n",
    "feedback_one_time_customers = df[df['IsRepeatCustomer'] == False]['CustomerFeedback'].value_counts()\n",
    "feedback_impact = df.groupby('CustomerFeedback')['IsRepeatCustomer'].mean().reset_index()\n",
    "print(feedback_impact)\n",
    "\n",
    "# mn\n"
   ]
  },
  {
   "cell_type": "code",
   "execution_count": null,
   "id": "16c516c9",
   "metadata": {},
   "outputs": [],
   "source": []
  }
 ],
 "metadata": {
  "kernelspec": {
   "display_name": "Python 3 (ipykernel)",
   "language": "python",
   "name": "python3"
  },
  "language_info": {
   "codemirror_mode": {
    "name": "ipython",
    "version": 3
   },
   "file_extension": ".py",
   "mimetype": "text/x-python",
   "name": "python",
   "nbconvert_exporter": "python",
   "pygments_lexer": "ipython3",
   "version": "3.11.5"
  }
 },
 "nbformat": 4,
 "nbformat_minor": 5
}
